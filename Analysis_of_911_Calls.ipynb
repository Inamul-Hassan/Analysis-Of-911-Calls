{
  "nbformat": 4,
  "nbformat_minor": 0,
  "metadata": {
    "colab": {
      "name": "Analysis of 911 Calls.ipynb",
      "provenance": [],
      "collapsed_sections": [],
      "mount_file_id": "1dhgIZou7P78bP4TE54nwdAiugu182GkA",
      "authorship_tag": "ABX9TyNLjy+In1xe/QVVuom+akXL",
      "include_colab_link": true
    },
    "kernelspec": {
      "name": "python3",
      "display_name": "Python 3"
    },
    "language_info": {
      "name": "python"
    }
  },
  "cells": [
    {
      "cell_type": "markdown",
      "metadata": {
        "id": "view-in-github",
        "colab_type": "text"
      },
      "source": [
        "<a href=\"https://colab.research.google.com/github/Inamul-Hassan/Analysis-Of-911-Calls/blob/main/Analysis_of_911_Calls.ipynb\" target=\"_parent\"><img src=\"https://colab.research.google.com/assets/colab-badge.svg\" alt=\"Open In Colab\"/></a>"
      ]
    },
    {
      "cell_type": "markdown",
      "metadata": {
        "id": "nSpNLoM6mUxn"
      },
      "source": [
        "# Analysis Of 911 Calls\n"
      ]
    },
    {
      "cell_type": "markdown",
      "metadata": {
        "id": "Qk0dyIqLJlon"
      },
      "source": [
        "### Importing Necessary Libraries."
      ]
    },
    {
      "cell_type": "code",
      "metadata": {
        "id": "xnPPICGpCXTY"
      },
      "source": [
        "import numpy as np\n",
        "import pandas as pd\n",
        "import matplotlib.pyplot as plt\n",
        "import seaborn as sns\n",
        "\n",
        "%matplotlib inline"
      ],
      "execution_count": 1,
      "outputs": []
    },
    {
      "cell_type": "code",
      "metadata": {
        "id": "eWCvO3o7fVe9"
      },
      "source": [
        "plt.style.use('dark_background')"
      ],
      "execution_count": 35,
      "outputs": []
    },
    {
      "cell_type": "code",
      "metadata": {
        "id": "F7u0QekffWkf"
      },
      "source": [
        "sns.set(style = 'darkgrid')"
      ],
      "execution_count": 33,
      "outputs": []
    },
    {
      "cell_type": "markdown",
      "metadata": {
        "id": "NENafZutJxES"
      },
      "source": [
        "### Reading Data"
      ]
    },
    {
      "cell_type": "code",
      "metadata": {
        "id": "snqLkN3IHZoe"
      },
      "source": [
        "data = pd.read_csv('/content/drive/MyDrive/Resume Projects/Datasets/911.csv')"
      ],
      "execution_count": 4,
      "outputs": []
    },
    {
      "cell_type": "code",
      "metadata": {
        "colab": {
          "base_uri": "https://localhost:8080/",
          "height": 288
        },
        "id": "QvnCKh-nHqBp",
        "outputId": "a3ca5dd5-6d00-41ba-9569-992053fae36a"
      },
      "source": [
        "data.head()"
      ],
      "execution_count": 5,
      "outputs": [
        {
          "output_type": "execute_result",
          "data": {
            "text/html": [
              "<div>\n",
              "<style scoped>\n",
              "    .dataframe tbody tr th:only-of-type {\n",
              "        vertical-align: middle;\n",
              "    }\n",
              "\n",
              "    .dataframe tbody tr th {\n",
              "        vertical-align: top;\n",
              "    }\n",
              "\n",
              "    .dataframe thead th {\n",
              "        text-align: right;\n",
              "    }\n",
              "</style>\n",
              "<table border=\"1\" class=\"dataframe\">\n",
              "  <thead>\n",
              "    <tr style=\"text-align: right;\">\n",
              "      <th></th>\n",
              "      <th>lat</th>\n",
              "      <th>lng</th>\n",
              "      <th>desc</th>\n",
              "      <th>zip</th>\n",
              "      <th>title</th>\n",
              "      <th>timeStamp</th>\n",
              "      <th>twp</th>\n",
              "      <th>addr</th>\n",
              "      <th>e</th>\n",
              "    </tr>\n",
              "  </thead>\n",
              "  <tbody>\n",
              "    <tr>\n",
              "      <th>0</th>\n",
              "      <td>40.297876</td>\n",
              "      <td>-75.581294</td>\n",
              "      <td>REINDEER CT &amp; DEAD END;  NEW HANOVER; Station ...</td>\n",
              "      <td>19525.0</td>\n",
              "      <td>EMS: BACK PAINS/INJURY</td>\n",
              "      <td>2015-12-10 17:10:52</td>\n",
              "      <td>NEW HANOVER</td>\n",
              "      <td>REINDEER CT &amp; DEAD END</td>\n",
              "      <td>1</td>\n",
              "    </tr>\n",
              "    <tr>\n",
              "      <th>1</th>\n",
              "      <td>40.258061</td>\n",
              "      <td>-75.264680</td>\n",
              "      <td>BRIAR PATH &amp; WHITEMARSH LN;  HATFIELD TOWNSHIP...</td>\n",
              "      <td>19446.0</td>\n",
              "      <td>EMS: DIABETIC EMERGENCY</td>\n",
              "      <td>2015-12-10 17:29:21</td>\n",
              "      <td>HATFIELD TOWNSHIP</td>\n",
              "      <td>BRIAR PATH &amp; WHITEMARSH LN</td>\n",
              "      <td>1</td>\n",
              "    </tr>\n",
              "    <tr>\n",
              "      <th>2</th>\n",
              "      <td>40.121182</td>\n",
              "      <td>-75.351975</td>\n",
              "      <td>HAWS AVE; NORRISTOWN; 2015-12-10 @ 14:39:21-St...</td>\n",
              "      <td>19401.0</td>\n",
              "      <td>Fire: GAS-ODOR/LEAK</td>\n",
              "      <td>2015-12-10 14:39:21</td>\n",
              "      <td>NORRISTOWN</td>\n",
              "      <td>HAWS AVE</td>\n",
              "      <td>1</td>\n",
              "    </tr>\n",
              "    <tr>\n",
              "      <th>3</th>\n",
              "      <td>40.116153</td>\n",
              "      <td>-75.343513</td>\n",
              "      <td>AIRY ST &amp; SWEDE ST;  NORRISTOWN; Station 308A;...</td>\n",
              "      <td>19401.0</td>\n",
              "      <td>EMS: CARDIAC EMERGENCY</td>\n",
              "      <td>2015-12-10 16:47:36</td>\n",
              "      <td>NORRISTOWN</td>\n",
              "      <td>AIRY ST &amp; SWEDE ST</td>\n",
              "      <td>1</td>\n",
              "    </tr>\n",
              "    <tr>\n",
              "      <th>4</th>\n",
              "      <td>40.251492</td>\n",
              "      <td>-75.603350</td>\n",
              "      <td>CHERRYWOOD CT &amp; DEAD END;  LOWER POTTSGROVE; S...</td>\n",
              "      <td>NaN</td>\n",
              "      <td>EMS: DIZZINESS</td>\n",
              "      <td>2015-12-10 16:56:52</td>\n",
              "      <td>LOWER POTTSGROVE</td>\n",
              "      <td>CHERRYWOOD CT &amp; DEAD END</td>\n",
              "      <td>1</td>\n",
              "    </tr>\n",
              "  </tbody>\n",
              "</table>\n",
              "</div>"
            ],
            "text/plain": [
              "         lat        lng  ...                        addr  e\n",
              "0  40.297876 -75.581294  ...      REINDEER CT & DEAD END  1\n",
              "1  40.258061 -75.264680  ...  BRIAR PATH & WHITEMARSH LN  1\n",
              "2  40.121182 -75.351975  ...                    HAWS AVE  1\n",
              "3  40.116153 -75.343513  ...          AIRY ST & SWEDE ST  1\n",
              "4  40.251492 -75.603350  ...    CHERRYWOOD CT & DEAD END  1\n",
              "\n",
              "[5 rows x 9 columns]"
            ]
          },
          "metadata": {
            "tags": []
          },
          "execution_count": 5
        }
      ]
    },
    {
      "cell_type": "code",
      "metadata": {
        "colab": {
          "base_uri": "https://localhost:8080/"
        },
        "id": "i7lFWXa1Ht-a",
        "outputId": "550a570e-7973-4ed8-b905-afc85c62e68a"
      },
      "source": [
        "data.info()"
      ],
      "execution_count": 6,
      "outputs": [
        {
          "output_type": "stream",
          "text": [
            "<class 'pandas.core.frame.DataFrame'>\n",
            "RangeIndex: 663522 entries, 0 to 663521\n",
            "Data columns (total 9 columns):\n",
            " #   Column     Non-Null Count   Dtype  \n",
            "---  ------     --------------   -----  \n",
            " 0   lat        663522 non-null  float64\n",
            " 1   lng        663522 non-null  float64\n",
            " 2   desc       663522 non-null  object \n",
            " 3   zip        583323 non-null  float64\n",
            " 4   title      663522 non-null  object \n",
            " 5   timeStamp  663522 non-null  object \n",
            " 6   twp        663229 non-null  object \n",
            " 7   addr       663522 non-null  object \n",
            " 8   e          663522 non-null  int64  \n",
            "dtypes: float64(3), int64(1), object(5)\n",
            "memory usage: 45.6+ MB\n"
          ],
          "name": "stdout"
        }
      ]
    },
    {
      "cell_type": "markdown",
      "metadata": {
        "id": "BIDju3-1LR5M"
      },
      "source": [
        "### DateTime"
      ]
    },
    {
      "cell_type": "code",
      "metadata": {
        "colab": {
          "base_uri": "https://localhost:8080/"
        },
        "id": "kGkblFGVIP4l",
        "outputId": "4f5a638e-8976-4da7-f285-c1d69766fcbd"
      },
      "source": [
        "type(data['timeStamp'].iloc[0])"
      ],
      "execution_count": 7,
      "outputs": [
        {
          "output_type": "execute_result",
          "data": {
            "text/plain": [
              "str"
            ]
          },
          "metadata": {
            "tags": []
          },
          "execution_count": 7
        }
      ]
    },
    {
      "cell_type": "markdown",
      "metadata": {
        "id": "pA-a_vKfJvzq"
      },
      "source": [
        "From the initial observation, we can say that our data has date and time, but it is in string. \n",
        "\n",
        "So we will change it into DateTime format and make new columns from it.\n"
      ]
    },
    {
      "cell_type": "code",
      "metadata": {
        "id": "iBzHMApYJW2k"
      },
      "source": [
        "# Using pandas to_datetime to change its dtype from string to datetime\n",
        "\n",
        "data['timeStamp']=pd.to_datetime(data['timeStamp'])"
      ],
      "execution_count": 8,
      "outputs": []
    },
    {
      "cell_type": "code",
      "metadata": {
        "colab": {
          "base_uri": "https://localhost:8080/"
        },
        "id": "3hx1RrxUNSSk",
        "outputId": "f3e62fa5-d562-4a1c-d5ba-49e9eb9ecc9a"
      },
      "source": [
        "data['timeStamp'].iloc[0]"
      ],
      "execution_count": 9,
      "outputs": [
        {
          "output_type": "execute_result",
          "data": {
            "text/plain": [
              "Timestamp('2015-12-10 17:10:52')"
            ]
          },
          "metadata": {
            "tags": []
          },
          "execution_count": 9
        }
      ]
    },
    {
      "cell_type": "code",
      "metadata": {
        "colab": {
          "base_uri": "https://localhost:8080/"
        },
        "id": "jIhKdDl5JqaI",
        "outputId": "47a781ea-b148-4129-9a42-8e4e835fe70d"
      },
      "source": [
        "type(data['timeStamp'].iloc[0])"
      ],
      "execution_count": 10,
      "outputs": [
        {
          "output_type": "execute_result",
          "data": {
            "text/plain": [
              "pandas._libs.tslibs.timestamps.Timestamp"
            ]
          },
          "metadata": {
            "tags": []
          },
          "execution_count": 10
        }
      ]
    },
    {
      "cell_type": "markdown",
      "metadata": {
        "id": "V_2tFy5WKq-z"
      },
      "source": [
        "Now it is in dateTime format, thus we can use various methods and attributes of dateTime class to access various information from it."
      ]
    },
    {
      "cell_type": "code",
      "metadata": {
        "id": "_rQBhYeHP6Or"
      },
      "source": [
        "time = data[\"timeStamp\"].iloc[0]"
      ],
      "execution_count": 11,
      "outputs": []
    },
    {
      "cell_type": "code",
      "metadata": {
        "colab": {
          "base_uri": "https://localhost:8080/"
        },
        "id": "a6NgflIGP-PS",
        "outputId": "b82932d8-8690-4888-c887-934b61245eab"
      },
      "source": [
        "time.hour"
      ],
      "execution_count": 12,
      "outputs": [
        {
          "output_type": "execute_result",
          "data": {
            "text/plain": [
              "17"
            ]
          },
          "metadata": {
            "tags": []
          },
          "execution_count": 12
        }
      ]
    },
    {
      "cell_type": "code",
      "metadata": {
        "colab": {
          "base_uri": "https://localhost:8080/",
          "height": 36
        },
        "id": "aS_CLEv5KkWE",
        "outputId": "45519d1c-4484-473c-efaf-2c10d78cffbd"
      },
      "source": [
        "time.day_name()"
      ],
      "execution_count": 13,
      "outputs": [
        {
          "output_type": "execute_result",
          "data": {
            "application/vnd.google.colaboratory.intrinsic+json": {
              "type": "string"
            },
            "text/plain": [
              "'Thursday'"
            ]
          },
          "metadata": {
            "tags": []
          },
          "execution_count": 13
        }
      ]
    },
    {
      "cell_type": "markdown",
      "metadata": {
        "id": "QONk0WQuLGpK"
      },
      "source": [
        "#### Creating new columns"
      ]
    },
    {
      "cell_type": "code",
      "metadata": {
        "id": "l7j1uK4tNgAJ"
      },
      "source": [
        "# Splitting Hour\n",
        "\n",
        "data['hour'] = data['timeStamp'].dt.hour"
      ],
      "execution_count": 14,
      "outputs": []
    },
    {
      "cell_type": "code",
      "metadata": {
        "id": "HpXnoSNHPDBB"
      },
      "source": [
        "# Splitting Month\n",
        "\n",
        "data['month'] = data['timeStamp'].dt.month"
      ],
      "execution_count": 15,
      "outputs": []
    },
    {
      "cell_type": "code",
      "metadata": {
        "id": "O4JpNG-gPCgQ"
      },
      "source": [
        "# Splitting day of the week\n",
        "#day_name() is a function of pandas date time\n",
        "\n",
        "data['dayOfWeek'] = data['timeStamp'].dt.day_name()\n"
      ],
      "execution_count": 16,
      "outputs": []
    },
    {
      "cell_type": "code",
      "metadata": {
        "id": "xjuGLaUU_QRS"
      },
      "source": [
        "# Splitting Hour\n",
        "\n",
        "\n",
        "data['year'] = data['timeStamp'].dt.year"
      ],
      "execution_count": 17,
      "outputs": []
    },
    {
      "cell_type": "code",
      "metadata": {
        "id": "hUWSjWEVEPn1"
      },
      "source": [
        "# Splitting date\n",
        "\n",
        "data['date'] = data['timeStamp'].dt.date"
      ],
      "execution_count": 18,
      "outputs": []
    },
    {
      "cell_type": "markdown",
      "metadata": {
        "id": "1p0f8hbVLcVt"
      },
      "source": [
        "We have sucessfully created new columns using dateTime"
      ]
    },
    {
      "cell_type": "code",
      "metadata": {
        "colab": {
          "base_uri": "https://localhost:8080/",
          "height": 339
        },
        "id": "3eIDm874QCRp",
        "outputId": "a4325b5d-1b86-456e-a34d-8641100b31c7"
      },
      "source": [
        "data.head()"
      ],
      "execution_count": 19,
      "outputs": [
        {
          "output_type": "execute_result",
          "data": {
            "text/html": [
              "<div>\n",
              "<style scoped>\n",
              "    .dataframe tbody tr th:only-of-type {\n",
              "        vertical-align: middle;\n",
              "    }\n",
              "\n",
              "    .dataframe tbody tr th {\n",
              "        vertical-align: top;\n",
              "    }\n",
              "\n",
              "    .dataframe thead th {\n",
              "        text-align: right;\n",
              "    }\n",
              "</style>\n",
              "<table border=\"1\" class=\"dataframe\">\n",
              "  <thead>\n",
              "    <tr style=\"text-align: right;\">\n",
              "      <th></th>\n",
              "      <th>lat</th>\n",
              "      <th>lng</th>\n",
              "      <th>desc</th>\n",
              "      <th>zip</th>\n",
              "      <th>title</th>\n",
              "      <th>timeStamp</th>\n",
              "      <th>twp</th>\n",
              "      <th>addr</th>\n",
              "      <th>e</th>\n",
              "      <th>hour</th>\n",
              "      <th>month</th>\n",
              "      <th>dayOfWeek</th>\n",
              "      <th>year</th>\n",
              "      <th>date</th>\n",
              "    </tr>\n",
              "  </thead>\n",
              "  <tbody>\n",
              "    <tr>\n",
              "      <th>0</th>\n",
              "      <td>40.297876</td>\n",
              "      <td>-75.581294</td>\n",
              "      <td>REINDEER CT &amp; DEAD END;  NEW HANOVER; Station ...</td>\n",
              "      <td>19525.0</td>\n",
              "      <td>EMS: BACK PAINS/INJURY</td>\n",
              "      <td>2015-12-10 17:10:52</td>\n",
              "      <td>NEW HANOVER</td>\n",
              "      <td>REINDEER CT &amp; DEAD END</td>\n",
              "      <td>1</td>\n",
              "      <td>17</td>\n",
              "      <td>12</td>\n",
              "      <td>Thursday</td>\n",
              "      <td>2015</td>\n",
              "      <td>2015-12-10</td>\n",
              "    </tr>\n",
              "    <tr>\n",
              "      <th>1</th>\n",
              "      <td>40.258061</td>\n",
              "      <td>-75.264680</td>\n",
              "      <td>BRIAR PATH &amp; WHITEMARSH LN;  HATFIELD TOWNSHIP...</td>\n",
              "      <td>19446.0</td>\n",
              "      <td>EMS: DIABETIC EMERGENCY</td>\n",
              "      <td>2015-12-10 17:29:21</td>\n",
              "      <td>HATFIELD TOWNSHIP</td>\n",
              "      <td>BRIAR PATH &amp; WHITEMARSH LN</td>\n",
              "      <td>1</td>\n",
              "      <td>17</td>\n",
              "      <td>12</td>\n",
              "      <td>Thursday</td>\n",
              "      <td>2015</td>\n",
              "      <td>2015-12-10</td>\n",
              "    </tr>\n",
              "    <tr>\n",
              "      <th>2</th>\n",
              "      <td>40.121182</td>\n",
              "      <td>-75.351975</td>\n",
              "      <td>HAWS AVE; NORRISTOWN; 2015-12-10 @ 14:39:21-St...</td>\n",
              "      <td>19401.0</td>\n",
              "      <td>Fire: GAS-ODOR/LEAK</td>\n",
              "      <td>2015-12-10 14:39:21</td>\n",
              "      <td>NORRISTOWN</td>\n",
              "      <td>HAWS AVE</td>\n",
              "      <td>1</td>\n",
              "      <td>14</td>\n",
              "      <td>12</td>\n",
              "      <td>Thursday</td>\n",
              "      <td>2015</td>\n",
              "      <td>2015-12-10</td>\n",
              "    </tr>\n",
              "    <tr>\n",
              "      <th>3</th>\n",
              "      <td>40.116153</td>\n",
              "      <td>-75.343513</td>\n",
              "      <td>AIRY ST &amp; SWEDE ST;  NORRISTOWN; Station 308A;...</td>\n",
              "      <td>19401.0</td>\n",
              "      <td>EMS: CARDIAC EMERGENCY</td>\n",
              "      <td>2015-12-10 16:47:36</td>\n",
              "      <td>NORRISTOWN</td>\n",
              "      <td>AIRY ST &amp; SWEDE ST</td>\n",
              "      <td>1</td>\n",
              "      <td>16</td>\n",
              "      <td>12</td>\n",
              "      <td>Thursday</td>\n",
              "      <td>2015</td>\n",
              "      <td>2015-12-10</td>\n",
              "    </tr>\n",
              "    <tr>\n",
              "      <th>4</th>\n",
              "      <td>40.251492</td>\n",
              "      <td>-75.603350</td>\n",
              "      <td>CHERRYWOOD CT &amp; DEAD END;  LOWER POTTSGROVE; S...</td>\n",
              "      <td>NaN</td>\n",
              "      <td>EMS: DIZZINESS</td>\n",
              "      <td>2015-12-10 16:56:52</td>\n",
              "      <td>LOWER POTTSGROVE</td>\n",
              "      <td>CHERRYWOOD CT &amp; DEAD END</td>\n",
              "      <td>1</td>\n",
              "      <td>16</td>\n",
              "      <td>12</td>\n",
              "      <td>Thursday</td>\n",
              "      <td>2015</td>\n",
              "      <td>2015-12-10</td>\n",
              "    </tr>\n",
              "  </tbody>\n",
              "</table>\n",
              "</div>"
            ],
            "text/plain": [
              "         lat        lng  ...  year        date\n",
              "0  40.297876 -75.581294  ...  2015  2015-12-10\n",
              "1  40.258061 -75.264680  ...  2015  2015-12-10\n",
              "2  40.121182 -75.351975  ...  2015  2015-12-10\n",
              "3  40.116153 -75.343513  ...  2015  2015-12-10\n",
              "4  40.251492 -75.603350  ...  2015  2015-12-10\n",
              "\n",
              "[5 rows x 14 columns]"
            ]
          },
          "metadata": {
            "tags": []
          },
          "execution_count": 19
        }
      ]
    },
    {
      "cell_type": "markdown",
      "metadata": {
        "id": "Oa5HYouoLa9T"
      },
      "source": [
        "### Column 'e'\n",
        "\n",
        "The column 'e' contains only one value('1') and it is of no use, so we will drop that column."
      ]
    },
    {
      "cell_type": "code",
      "metadata": {
        "id": "nhQtBzrIQ6sb"
      },
      "source": [
        "data.drop('e',inplace=True,axis=1)"
      ],
      "execution_count": 20,
      "outputs": []
    },
    {
      "cell_type": "code",
      "metadata": {
        "colab": {
          "base_uri": "https://localhost:8080/",
          "height": 305
        },
        "id": "OA4PsCZYSRA-",
        "outputId": "ad118b0c-354b-41e4-ab64-ab8c60749681"
      },
      "source": [
        "data.head()"
      ],
      "execution_count": 21,
      "outputs": [
        {
          "output_type": "execute_result",
          "data": {
            "text/html": [
              "<div>\n",
              "<style scoped>\n",
              "    .dataframe tbody tr th:only-of-type {\n",
              "        vertical-align: middle;\n",
              "    }\n",
              "\n",
              "    .dataframe tbody tr th {\n",
              "        vertical-align: top;\n",
              "    }\n",
              "\n",
              "    .dataframe thead th {\n",
              "        text-align: right;\n",
              "    }\n",
              "</style>\n",
              "<table border=\"1\" class=\"dataframe\">\n",
              "  <thead>\n",
              "    <tr style=\"text-align: right;\">\n",
              "      <th></th>\n",
              "      <th>lat</th>\n",
              "      <th>lng</th>\n",
              "      <th>desc</th>\n",
              "      <th>zip</th>\n",
              "      <th>title</th>\n",
              "      <th>timeStamp</th>\n",
              "      <th>twp</th>\n",
              "      <th>addr</th>\n",
              "      <th>hour</th>\n",
              "      <th>month</th>\n",
              "      <th>dayOfWeek</th>\n",
              "      <th>year</th>\n",
              "      <th>date</th>\n",
              "    </tr>\n",
              "  </thead>\n",
              "  <tbody>\n",
              "    <tr>\n",
              "      <th>0</th>\n",
              "      <td>40.297876</td>\n",
              "      <td>-75.581294</td>\n",
              "      <td>REINDEER CT &amp; DEAD END;  NEW HANOVER; Station ...</td>\n",
              "      <td>19525.0</td>\n",
              "      <td>EMS: BACK PAINS/INJURY</td>\n",
              "      <td>2015-12-10 17:10:52</td>\n",
              "      <td>NEW HANOVER</td>\n",
              "      <td>REINDEER CT &amp; DEAD END</td>\n",
              "      <td>17</td>\n",
              "      <td>12</td>\n",
              "      <td>Thursday</td>\n",
              "      <td>2015</td>\n",
              "      <td>2015-12-10</td>\n",
              "    </tr>\n",
              "    <tr>\n",
              "      <th>1</th>\n",
              "      <td>40.258061</td>\n",
              "      <td>-75.264680</td>\n",
              "      <td>BRIAR PATH &amp; WHITEMARSH LN;  HATFIELD TOWNSHIP...</td>\n",
              "      <td>19446.0</td>\n",
              "      <td>EMS: DIABETIC EMERGENCY</td>\n",
              "      <td>2015-12-10 17:29:21</td>\n",
              "      <td>HATFIELD TOWNSHIP</td>\n",
              "      <td>BRIAR PATH &amp; WHITEMARSH LN</td>\n",
              "      <td>17</td>\n",
              "      <td>12</td>\n",
              "      <td>Thursday</td>\n",
              "      <td>2015</td>\n",
              "      <td>2015-12-10</td>\n",
              "    </tr>\n",
              "    <tr>\n",
              "      <th>2</th>\n",
              "      <td>40.121182</td>\n",
              "      <td>-75.351975</td>\n",
              "      <td>HAWS AVE; NORRISTOWN; 2015-12-10 @ 14:39:21-St...</td>\n",
              "      <td>19401.0</td>\n",
              "      <td>Fire: GAS-ODOR/LEAK</td>\n",
              "      <td>2015-12-10 14:39:21</td>\n",
              "      <td>NORRISTOWN</td>\n",
              "      <td>HAWS AVE</td>\n",
              "      <td>14</td>\n",
              "      <td>12</td>\n",
              "      <td>Thursday</td>\n",
              "      <td>2015</td>\n",
              "      <td>2015-12-10</td>\n",
              "    </tr>\n",
              "    <tr>\n",
              "      <th>3</th>\n",
              "      <td>40.116153</td>\n",
              "      <td>-75.343513</td>\n",
              "      <td>AIRY ST &amp; SWEDE ST;  NORRISTOWN; Station 308A;...</td>\n",
              "      <td>19401.0</td>\n",
              "      <td>EMS: CARDIAC EMERGENCY</td>\n",
              "      <td>2015-12-10 16:47:36</td>\n",
              "      <td>NORRISTOWN</td>\n",
              "      <td>AIRY ST &amp; SWEDE ST</td>\n",
              "      <td>16</td>\n",
              "      <td>12</td>\n",
              "      <td>Thursday</td>\n",
              "      <td>2015</td>\n",
              "      <td>2015-12-10</td>\n",
              "    </tr>\n",
              "    <tr>\n",
              "      <th>4</th>\n",
              "      <td>40.251492</td>\n",
              "      <td>-75.603350</td>\n",
              "      <td>CHERRYWOOD CT &amp; DEAD END;  LOWER POTTSGROVE; S...</td>\n",
              "      <td>NaN</td>\n",
              "      <td>EMS: DIZZINESS</td>\n",
              "      <td>2015-12-10 16:56:52</td>\n",
              "      <td>LOWER POTTSGROVE</td>\n",
              "      <td>CHERRYWOOD CT &amp; DEAD END</td>\n",
              "      <td>16</td>\n",
              "      <td>12</td>\n",
              "      <td>Thursday</td>\n",
              "      <td>2015</td>\n",
              "      <td>2015-12-10</td>\n",
              "    </tr>\n",
              "  </tbody>\n",
              "</table>\n",
              "</div>"
            ],
            "text/plain": [
              "         lat        lng  ...  year        date\n",
              "0  40.297876 -75.581294  ...  2015  2015-12-10\n",
              "1  40.258061 -75.264680  ...  2015  2015-12-10\n",
              "2  40.121182 -75.351975  ...  2015  2015-12-10\n",
              "3  40.116153 -75.343513  ...  2015  2015-12-10\n",
              "4  40.251492 -75.603350  ...  2015  2015-12-10\n",
              "\n",
              "[5 rows x 13 columns]"
            ]
          },
          "metadata": {
            "tags": []
          },
          "execution_count": 21
        }
      ]
    },
    {
      "cell_type": "markdown",
      "metadata": {
        "id": "sCTn8J8iMYTj"
      },
      "source": [
        "### Seperating category of reason from 'title'\n",
        "\n",
        "The column 'title' contains the category of the emergency and the reason for the emergency. we will try to split it into two different column."
      ]
    },
    {
      "cell_type": "code",
      "metadata": {
        "id": "WWEudGTGfBUC"
      },
      "source": [
        "data['reasonCategory'] = data['title'].apply(lambda x: x.split(':')[0])\n",
        "data['reason'] = data['title'].apply(lambda x: x.split(':')[1].lstrip())"
      ],
      "execution_count": 22,
      "outputs": []
    },
    {
      "cell_type": "code",
      "metadata": {
        "id": "_SdjdChqgiF_"
      },
      "source": [
        "# Droping the title column\n",
        "\n",
        "data.drop('title',axis=1,inplace=True)"
      ],
      "execution_count": 23,
      "outputs": []
    },
    {
      "cell_type": "code",
      "metadata": {
        "colab": {
          "base_uri": "https://localhost:8080/",
          "height": 389
        },
        "id": "TNtyWLubgrqc",
        "outputId": "388426d9-6612-4d53-8d72-c63fba783940"
      },
      "source": [
        "data.head()"
      ],
      "execution_count": 24,
      "outputs": [
        {
          "output_type": "execute_result",
          "data": {
            "text/html": [
              "<div>\n",
              "<style scoped>\n",
              "    .dataframe tbody tr th:only-of-type {\n",
              "        vertical-align: middle;\n",
              "    }\n",
              "\n",
              "    .dataframe tbody tr th {\n",
              "        vertical-align: top;\n",
              "    }\n",
              "\n",
              "    .dataframe thead th {\n",
              "        text-align: right;\n",
              "    }\n",
              "</style>\n",
              "<table border=\"1\" class=\"dataframe\">\n",
              "  <thead>\n",
              "    <tr style=\"text-align: right;\">\n",
              "      <th></th>\n",
              "      <th>lat</th>\n",
              "      <th>lng</th>\n",
              "      <th>desc</th>\n",
              "      <th>zip</th>\n",
              "      <th>timeStamp</th>\n",
              "      <th>twp</th>\n",
              "      <th>addr</th>\n",
              "      <th>hour</th>\n",
              "      <th>month</th>\n",
              "      <th>dayOfWeek</th>\n",
              "      <th>year</th>\n",
              "      <th>date</th>\n",
              "      <th>reasonCategory</th>\n",
              "      <th>reason</th>\n",
              "    </tr>\n",
              "  </thead>\n",
              "  <tbody>\n",
              "    <tr>\n",
              "      <th>0</th>\n",
              "      <td>40.297876</td>\n",
              "      <td>-75.581294</td>\n",
              "      <td>REINDEER CT &amp; DEAD END;  NEW HANOVER; Station ...</td>\n",
              "      <td>19525.0</td>\n",
              "      <td>2015-12-10 17:10:52</td>\n",
              "      <td>NEW HANOVER</td>\n",
              "      <td>REINDEER CT &amp; DEAD END</td>\n",
              "      <td>17</td>\n",
              "      <td>12</td>\n",
              "      <td>Thursday</td>\n",
              "      <td>2015</td>\n",
              "      <td>2015-12-10</td>\n",
              "      <td>EMS</td>\n",
              "      <td>BACK PAINS/INJURY</td>\n",
              "    </tr>\n",
              "    <tr>\n",
              "      <th>1</th>\n",
              "      <td>40.258061</td>\n",
              "      <td>-75.264680</td>\n",
              "      <td>BRIAR PATH &amp; WHITEMARSH LN;  HATFIELD TOWNSHIP...</td>\n",
              "      <td>19446.0</td>\n",
              "      <td>2015-12-10 17:29:21</td>\n",
              "      <td>HATFIELD TOWNSHIP</td>\n",
              "      <td>BRIAR PATH &amp; WHITEMARSH LN</td>\n",
              "      <td>17</td>\n",
              "      <td>12</td>\n",
              "      <td>Thursday</td>\n",
              "      <td>2015</td>\n",
              "      <td>2015-12-10</td>\n",
              "      <td>EMS</td>\n",
              "      <td>DIABETIC EMERGENCY</td>\n",
              "    </tr>\n",
              "    <tr>\n",
              "      <th>2</th>\n",
              "      <td>40.121182</td>\n",
              "      <td>-75.351975</td>\n",
              "      <td>HAWS AVE; NORRISTOWN; 2015-12-10 @ 14:39:21-St...</td>\n",
              "      <td>19401.0</td>\n",
              "      <td>2015-12-10 14:39:21</td>\n",
              "      <td>NORRISTOWN</td>\n",
              "      <td>HAWS AVE</td>\n",
              "      <td>14</td>\n",
              "      <td>12</td>\n",
              "      <td>Thursday</td>\n",
              "      <td>2015</td>\n",
              "      <td>2015-12-10</td>\n",
              "      <td>Fire</td>\n",
              "      <td>GAS-ODOR/LEAK</td>\n",
              "    </tr>\n",
              "    <tr>\n",
              "      <th>3</th>\n",
              "      <td>40.116153</td>\n",
              "      <td>-75.343513</td>\n",
              "      <td>AIRY ST &amp; SWEDE ST;  NORRISTOWN; Station 308A;...</td>\n",
              "      <td>19401.0</td>\n",
              "      <td>2015-12-10 16:47:36</td>\n",
              "      <td>NORRISTOWN</td>\n",
              "      <td>AIRY ST &amp; SWEDE ST</td>\n",
              "      <td>16</td>\n",
              "      <td>12</td>\n",
              "      <td>Thursday</td>\n",
              "      <td>2015</td>\n",
              "      <td>2015-12-10</td>\n",
              "      <td>EMS</td>\n",
              "      <td>CARDIAC EMERGENCY</td>\n",
              "    </tr>\n",
              "    <tr>\n",
              "      <th>4</th>\n",
              "      <td>40.251492</td>\n",
              "      <td>-75.603350</td>\n",
              "      <td>CHERRYWOOD CT &amp; DEAD END;  LOWER POTTSGROVE; S...</td>\n",
              "      <td>NaN</td>\n",
              "      <td>2015-12-10 16:56:52</td>\n",
              "      <td>LOWER POTTSGROVE</td>\n",
              "      <td>CHERRYWOOD CT &amp; DEAD END</td>\n",
              "      <td>16</td>\n",
              "      <td>12</td>\n",
              "      <td>Thursday</td>\n",
              "      <td>2015</td>\n",
              "      <td>2015-12-10</td>\n",
              "      <td>EMS</td>\n",
              "      <td>DIZZINESS</td>\n",
              "    </tr>\n",
              "  </tbody>\n",
              "</table>\n",
              "</div>"
            ],
            "text/plain": [
              "         lat        lng  ... reasonCategory              reason\n",
              "0  40.297876 -75.581294  ...            EMS   BACK PAINS/INJURY\n",
              "1  40.258061 -75.264680  ...            EMS  DIABETIC EMERGENCY\n",
              "2  40.121182 -75.351975  ...           Fire       GAS-ODOR/LEAK\n",
              "3  40.116153 -75.343513  ...            EMS   CARDIAC EMERGENCY\n",
              "4  40.251492 -75.603350  ...            EMS           DIZZINESS\n",
              "\n",
              "[5 rows x 14 columns]"
            ]
          },
          "metadata": {
            "tags": []
          },
          "execution_count": 24
        }
      ]
    },
    {
      "cell_type": "code",
      "metadata": {
        "colab": {
          "base_uri": "https://localhost:8080/"
        },
        "id": "raVGQVB8M3fk",
        "outputId": "7d763132-7ef0-4a2b-ea13-4436e515097d"
      },
      "source": [
        "data['reasonCategory'].unique()"
      ],
      "execution_count": 25,
      "outputs": [
        {
          "output_type": "execute_result",
          "data": {
            "text/plain": [
              "array(['EMS', 'Fire', 'Traffic'], dtype=object)"
            ]
          },
          "metadata": {
            "tags": []
          },
          "execution_count": 25
        }
      ]
    },
    {
      "cell_type": "code",
      "metadata": {
        "colab": {
          "base_uri": "https://localhost:8080/"
        },
        "id": "UTH0iq_INC-i",
        "outputId": "d925e9a2-2691-4c9a-f7af-78baa0a6c1da"
      },
      "source": [
        "data['reason'].value_counts()"
      ],
      "execution_count": 26,
      "outputs": [
        {
          "output_type": "execute_result",
          "data": {
            "text/plain": [
              "VEHICLE ACCIDENT -           148372\n",
              "DISABLED VEHICLE -            47909\n",
              "FIRE ALARM                    38452\n",
              "VEHICLE ACCIDENT              36377\n",
              "FALL VICTIM                   34683\n",
              "                              ...  \n",
              "HAZARDOUS ROAD CONDITIONS         2\n",
              "ANIMAL COMPLAINT                  1\n",
              "HIT + RUN                         1\n",
              "PRISONER IN CUSTODY               1\n",
              "FOOT PATROL                       1\n",
              "Name: reason, Length: 95, dtype: int64"
            ]
          },
          "metadata": {
            "tags": []
          },
          "execution_count": 26
        }
      ]
    },
    {
      "cell_type": "markdown",
      "metadata": {
        "id": "TZM-n79DNOCV"
      },
      "source": [
        "**Inference**\n",
        "\n",
        "From this we can clearly see that the top two reason for a 911 call is related to vehicles. Either it is accident or disabled vehicle."
      ]
    },
    {
      "cell_type": "markdown",
      "metadata": {
        "id": "zNnaTlz4OBZq"
      },
      "source": [
        "### Dealing with Missing data"
      ]
    },
    {
      "cell_type": "code",
      "metadata": {
        "colab": {
          "base_uri": "https://localhost:8080/"
        },
        "id": "Yu18hDIcMPIe",
        "outputId": "07d6acc7-8a80-4340-ecda-6ed96b557200"
      },
      "source": [
        "data.isna().sum()"
      ],
      "execution_count": 27,
      "outputs": [
        {
          "output_type": "execute_result",
          "data": {
            "text/plain": [
              "lat                   0\n",
              "lng                   0\n",
              "desc                  0\n",
              "zip               80199\n",
              "timeStamp             0\n",
              "twp                 293\n",
              "addr                  0\n",
              "hour                  0\n",
              "month                 0\n",
              "dayOfWeek             0\n",
              "year                  0\n",
              "date                  0\n",
              "reasonCategory        0\n",
              "reason                0\n",
              "dtype: int64"
            ]
          },
          "metadata": {
            "tags": []
          },
          "execution_count": 27
        }
      ]
    },
    {
      "cell_type": "code",
      "metadata": {
        "colab": {
          "base_uri": "https://localhost:8080/",
          "height": 567
        },
        "id": "ZcbRGKbHMVQo",
        "outputId": "5a4f59db-07ed-4164-bd50-121f9d73e342"
      },
      "source": [
        "plt.figure(figsize=(12,8))\n",
        "sns.heatmap(data.isna(),cmap='cubehelix')\n",
        "plt.show()"
      ],
      "execution_count": 34,
      "outputs": [
        {
          "output_type": "display_data",
          "data": {
            "image/png": "[encoded data removed]",
            "text/plain": [
              "<Figure size 864x576 with 2 Axes>"
            ]
          },
          "metadata": {
            "tags": []
          }
        }
      ]
    },
    {
      "cell_type": "markdown",
      "metadata": {
        "id": "mSP5vRKBOIcp"
      },
      "source": [
        "We can see that the column 'zip' has most number of missing value. We can create a function to fill in the missing value but it is not needed. Since we already have the address in a seperate column.\n",
        "\n",
        "If in future we need to use 'zip' column for analysis we can simply drop missing rows. (or) we can simply drop the 'zip' column itself.\n",
        "In grand scale approximately 8% of data is only missing. "
      ]
    },
    {
      "cell_type": "markdown",
      "metadata": {
        "id": "oal6bR0kdgmu"
      },
      "source": [
        "### Saving the cleaned dataset"
      ]
    },
    {
      "cell_type": "code",
      "metadata": {
        "id": "EA-NS-oQdgCN"
      },
      "source": [
        "data.to_csv('cleaned_911.csv')"
      ],
      "execution_count": 29,
      "outputs": []
    },
    {
      "cell_type": "markdown",
      "metadata": {
        "id": "QeNnbc7QPrqV"
      },
      "source": [
        "### Visualization"
      ]
    },
    {
      "cell_type": "markdown",
      "metadata": {
        "id": "PD8bmFqmRXAd"
      },
      "source": [
        "####**Number of 911 Calls based on the reasons**"
      ]
    },
    {
      "cell_type": "code",
      "metadata": {
        "colab": {
          "base_uri": "https://localhost:8080/",
          "height": 493
        },
        "id": "Ba0ZbISBg4yo",
        "outputId": "7b985db8-a7eb-4f7d-de16-5d0529e6eacd"
      },
      "source": [
        "plt.figure(figsize=(8,10))\n",
        "\n",
        "\n",
        "myColors = [\"#e36dcd\", \"b\", \"g\"] \n",
        "myExplode = [0.025,0.02,0.2]\n",
        "plt.pie(data['reasonCategory'].value_counts(),labels=data['reasonCategory'].unique(),autopct='%1.1f%%',colors=myColors,explode = myExplode)\n",
        "plt.title(\"Reason For 911 Call\")\n",
        "plt.show()"
      ],
      "execution_count": 36,
      "outputs": [
        {
          "output_type": "display_data",
          "data": {
            "image/png": "[encoded data removed]",
            "text/plain": [
              "<Figure size 576x720 with 1 Axes>"
            ]
          },
          "metadata": {
            "tags": []
          }
        }
      ]
    },
    {
      "cell_type": "markdown",
      "metadata": {
        "id": "yKT_VnjlR0WE"
      },
      "source": [
        "**Inference**\n",
        "\n",
        "\n",
        "Previous we say the majority of the 911 calls are realted to vehicles but this pie chart show that 50.1% of calls are made for Emergency medical services. \n",
        "\n",
        "Possible reason for this could be that, people who meat in a road accident would call 911 and request for the medical assistent first rather than the assistence with their vehicles. \n",
        "\n",
        "\n",
        "\n"
      ]
    },
    {
      "cell_type": "markdown",
      "metadata": {
        "id": "HiQQF2SuRv4X"
      },
      "source": [
        "#### **Number of 911 calls made on each day of the week**"
      ]
    },
    {
      "cell_type": "code",
      "metadata": {
        "colab": {
          "base_uri": "https://localhost:8080/",
          "height": 614
        },
        "id": "lMBkiyu5nZ2n",
        "outputId": "0803f68a-1ad5-4215-9560-5417622c2f60"
      },
      "source": [
        "sns.catplot(x='dayOfWeek',data=data,palette='rocket',kind='count',height=8, aspect=1.8)\n",
        "plt.title('Number of 911 Calls made on each day of the week')\n",
        "plt.show()"
      ],
      "execution_count": 37,
      "outputs": [
        {
          "output_type": "display_data",
          "data": {
            "image/png": "[encoded data removed]",
            "text/plain": [
              "<Figure size 1036.8x576 with 1 Axes>"
            ]
          },
          "metadata": {
            "tags": []
          }
        }
      ]
    },
    {
      "cell_type": "markdown",
      "metadata": {
        "id": "WgVa1m_YTQX9"
      },
      "source": [
        "**Inference**\n",
        "\n",
        "Compared to other days of the week we see very less number of calls on sunday.\n",
        "The possible reason for this could be that, our dataset contains majority of the vehicle related call and most people may stay in home and take rest of sunday.\n",
        "\n",
        "\n"
      ]
    },
    {
      "cell_type": "markdown",
      "metadata": {
        "id": "0qbGTIYDVkZ_"
      },
      "source": [
        "#### **Number of 911 calls made since 2015 (Year Wise)**"
      ]
    },
    {
      "cell_type": "code",
      "metadata": {
        "id": "aaXLodM-_DiY",
        "colab": {
          "base_uri": "https://localhost:8080/",
          "height": 614
        },
        "outputId": "4b7725a7-66bf-4d3f-cdad-5208077a82d4"
      },
      "source": [
        "sns.catplot(x='year',data=data,kind='count',height=8, aspect=1.8)\n",
        "plt.title('Number of 911 calls made since 2015 (Year Wise)')\n",
        "plt.show()"
      ],
      "execution_count": 38,
      "outputs": [
        {
          "output_type": "display_data",
          "data": {
            "image/png": "[encoded data removed]",
            "text/plain": [
              "<Figure size 1036.8x576 with 1 Axes>"
            ]
          },
          "metadata": {
            "tags": []
          }
        }
      ]
    },
    {
      "cell_type": "code",
      "metadata": {
        "id": "m7p584UwWolv",
        "colab": {
          "base_uri": "https://localhost:8080/"
        },
        "outputId": "5162433b-e86a-4ec8-e00a-6113f6ba2f1a"
      },
      "source": [
        "data['timeStamp'].max()"
      ],
      "execution_count": 39,
      "outputs": [
        {
          "output_type": "execute_result",
          "data": {
            "text/plain": [
              "Timestamp('2020-07-29 15:54:08')"
            ]
          },
          "metadata": {
            "tags": []
          },
          "execution_count": 39
        }
      ]
    },
    {
      "cell_type": "code",
      "metadata": {
        "id": "QBiMAxg5W4Hd",
        "colab": {
          "base_uri": "https://localhost:8080/"
        },
        "outputId": "184a6502-6e9a-47e4-9c71-992e8e3d3296"
      },
      "source": [
        "data['timeStamp'].min()"
      ],
      "execution_count": 40,
      "outputs": [
        {
          "output_type": "execute_result",
          "data": {
            "text/plain": [
              "Timestamp('2015-12-10 14:39:21')"
            ]
          },
          "metadata": {
            "tags": []
          },
          "execution_count": 40
        }
      ]
    },
    {
      "cell_type": "markdown",
      "metadata": {
        "id": "Ky0_eeIPWMeF"
      },
      "source": [
        "**Inference**\n",
        "\n",
        "We have very less number of call in the years 2015 and 2020.\n",
        "The reason is, this dataset contains only the data recorded from the date \n",
        "2015-12-10 to 2020-07-29.\n",
        "\n",
        "So now it makes sense."
      ]
    },
    {
      "cell_type": "markdown",
      "metadata": {
        "id": "60NJxooxXoEt"
      },
      "source": [
        "#### **Number of 911 calls made on each month**"
      ]
    },
    {
      "cell_type": "code",
      "metadata": {
        "id": "JNGJ_Nt0XhKN",
        "colab": {
          "base_uri": "https://localhost:8080/",
          "height": 614
        },
        "outputId": "febea7fa-9109-4647-bd4c-d682437427e9"
      },
      "source": [
        "sns.catplot(x='month',data=data,kind='count',height=8, aspect=1.8,palette='Paired')\n",
        "plt.title('Number of 911 calls made on each month')\n",
        "plt.show()"
      ],
      "execution_count": 41,
      "outputs": [
        {
          "output_type": "display_data",
          "data": {
            "image/png": "[encoded data removed]",
            "text/plain": [
              "<Figure size 1036.8x576 with 1 Axes>"
            ]
          },
          "metadata": {
            "tags": []
          }
        }
      ]
    },
    {
      "cell_type": "markdown",
      "metadata": {
        "id": "qXyFQCiKYKwK"
      },
      "source": [
        "**Inference**\n",
        "\n",
        "This bar graph shows that there are less number of calls made in the months 8,9,10 and 11. It is because of the same reason, we dont have the data for the year 2020 from the month 7. And the reason that we have more calls on the 12th month is because, on the year 2015 we only have the data for the 12th month."
      ]
    },
    {
      "cell_type": "markdown",
      "metadata": {
        "id": "22_Vqdb6aqTG"
      },
      "source": [
        "#### **Number of calls made on each day since 2015**"
      ]
    },
    {
      "cell_type": "code",
      "metadata": {
        "id": "rpukxXtjG0W7",
        "colab": {
          "base_uri": "https://localhost:8080/",
          "height": 520
        },
        "outputId": "879da8a4-5288-44ae-82e3-88efb97094b7"
      },
      "source": [
        "plt.figure(figsize=(12,8))\n",
        "\n",
        "data.groupby('date').count()['twp'].plot(kind='line',colormap='RdBu')"
      ],
      "execution_count": 45,
      "outputs": [
        {
          "output_type": "execute_result",
          "data": {
            "text/plain": [
              "<matplotlib.axes._subplots.AxesSubplot at 0x7fd6a45ce5d0>"
            ]
          },
          "metadata": {
            "tags": []
          },
          "execution_count": 45
        },
        {
          "output_type": "display_data",
          "data": {
            "image/png": "[encoded data removed]",
            "text/plain": [
              "<Figure size 864x576 with 1 Axes>"
            ]
          },
          "metadata": {
            "tags": []
          }
        }
      ]
    },
    {
      "cell_type": "markdown",
      "metadata": {
        "id": "LICpWM2PaxdN"
      },
      "source": [
        "We can see a clear spike on certain days. Lets find out those dates."
      ]
    },
    {
      "cell_type": "code",
      "metadata": {
        "id": "fa46HuSxcVEO",
        "colab": {
          "base_uri": "https://localhost:8080/",
          "height": 449
        },
        "outputId": "1c96f1a6-e6a8-4fbb-836a-38b6689e2d60"
      },
      "source": [
        "data.groupby('date').count().sort_values(by='twp',ascending=False)"
      ],
      "execution_count": 43,
      "outputs": [
        {
          "output_type": "execute_result",
          "data": {
            "text/html": [
              "<div>\n",
              "<style scoped>\n",
              "    .dataframe tbody tr th:only-of-type {\n",
              "        vertical-align: middle;\n",
              "    }\n",
              "\n",
              "    .dataframe tbody tr th {\n",
              "        vertical-align: top;\n",
              "    }\n",
              "\n",
              "    .dataframe thead th {\n",
              "        text-align: right;\n",
              "    }\n",
              "</style>\n",
              "<table border=\"1\" class=\"dataframe\">\n",
              "  <thead>\n",
              "    <tr style=\"text-align: right;\">\n",
              "      <th></th>\n",
              "      <th>lat</th>\n",
              "      <th>lng</th>\n",
              "      <th>desc</th>\n",
              "      <th>zip</th>\n",
              "      <th>timeStamp</th>\n",
              "      <th>twp</th>\n",
              "      <th>addr</th>\n",
              "      <th>hour</th>\n",
              "      <th>month</th>\n",
              "      <th>dayOfWeek</th>\n",
              "      <th>year</th>\n",
              "      <th>reasonCategory</th>\n",
              "      <th>reason</th>\n",
              "    </tr>\n",
              "    <tr>\n",
              "      <th>date</th>\n",
              "      <th></th>\n",
              "      <th></th>\n",
              "      <th></th>\n",
              "      <th></th>\n",
              "      <th></th>\n",
              "      <th></th>\n",
              "      <th></th>\n",
              "      <th></th>\n",
              "      <th></th>\n",
              "      <th></th>\n",
              "      <th></th>\n",
              "      <th></th>\n",
              "      <th></th>\n",
              "    </tr>\n",
              "  </thead>\n",
              "  <tbody>\n",
              "    <tr>\n",
              "      <th>2018-03-02</th>\n",
              "      <td>2187</td>\n",
              "      <td>2187</td>\n",
              "      <td>2187</td>\n",
              "      <td>1986</td>\n",
              "      <td>2187</td>\n",
              "      <td>2187</td>\n",
              "      <td>2187</td>\n",
              "      <td>2187</td>\n",
              "      <td>2187</td>\n",
              "      <td>2187</td>\n",
              "      <td>2187</td>\n",
              "      <td>2187</td>\n",
              "      <td>2187</td>\n",
              "    </tr>\n",
              "    <tr>\n",
              "      <th>2018-11-15</th>\n",
              "      <td>1662</td>\n",
              "      <td>1662</td>\n",
              "      <td>1662</td>\n",
              "      <td>1458</td>\n",
              "      <td>1662</td>\n",
              "      <td>1662</td>\n",
              "      <td>1662</td>\n",
              "      <td>1662</td>\n",
              "      <td>1662</td>\n",
              "      <td>1662</td>\n",
              "      <td>1662</td>\n",
              "      <td>1662</td>\n",
              "      <td>1662</td>\n",
              "    </tr>\n",
              "    <tr>\n",
              "      <th>2020-06-03</th>\n",
              "      <td>1401</td>\n",
              "      <td>1401</td>\n",
              "      <td>1401</td>\n",
              "      <td>1283</td>\n",
              "      <td>1401</td>\n",
              "      <td>1401</td>\n",
              "      <td>1401</td>\n",
              "      <td>1401</td>\n",
              "      <td>1401</td>\n",
              "      <td>1401</td>\n",
              "      <td>1401</td>\n",
              "      <td>1401</td>\n",
              "      <td>1401</td>\n",
              "    </tr>\n",
              "    <tr>\n",
              "      <th>2018-03-07</th>\n",
              "      <td>920</td>\n",
              "      <td>920</td>\n",
              "      <td>920</td>\n",
              "      <td>824</td>\n",
              "      <td>920</td>\n",
              "      <td>920</td>\n",
              "      <td>920</td>\n",
              "      <td>920</td>\n",
              "      <td>920</td>\n",
              "      <td>920</td>\n",
              "      <td>920</td>\n",
              "      <td>920</td>\n",
              "      <td>920</td>\n",
              "    </tr>\n",
              "    <tr>\n",
              "      <th>2018-03-03</th>\n",
              "      <td>917</td>\n",
              "      <td>917</td>\n",
              "      <td>917</td>\n",
              "      <td>836</td>\n",
              "      <td>917</td>\n",
              "      <td>917</td>\n",
              "      <td>917</td>\n",
              "      <td>917</td>\n",
              "      <td>917</td>\n",
              "      <td>917</td>\n",
              "      <td>917</td>\n",
              "      <td>917</td>\n",
              "      <td>917</td>\n",
              "    </tr>\n",
              "    <tr>\n",
              "      <th>...</th>\n",
              "      <td>...</td>\n",
              "      <td>...</td>\n",
              "      <td>...</td>\n",
              "      <td>...</td>\n",
              "      <td>...</td>\n",
              "      <td>...</td>\n",
              "      <td>...</td>\n",
              "      <td>...</td>\n",
              "      <td>...</td>\n",
              "      <td>...</td>\n",
              "      <td>...</td>\n",
              "      <td>...</td>\n",
              "      <td>...</td>\n",
              "    </tr>\n",
              "    <tr>\n",
              "      <th>2020-07-29</th>\n",
              "      <td>217</td>\n",
              "      <td>217</td>\n",
              "      <td>217</td>\n",
              "      <td>184</td>\n",
              "      <td>217</td>\n",
              "      <td>217</td>\n",
              "      <td>217</td>\n",
              "      <td>217</td>\n",
              "      <td>217</td>\n",
              "      <td>217</td>\n",
              "      <td>217</td>\n",
              "      <td>217</td>\n",
              "      <td>217</td>\n",
              "    </tr>\n",
              "    <tr>\n",
              "      <th>2020-03-29</th>\n",
              "      <td>204</td>\n",
              "      <td>204</td>\n",
              "      <td>204</td>\n",
              "      <td>187</td>\n",
              "      <td>204</td>\n",
              "      <td>203</td>\n",
              "      <td>204</td>\n",
              "      <td>204</td>\n",
              "      <td>204</td>\n",
              "      <td>204</td>\n",
              "      <td>204</td>\n",
              "      <td>204</td>\n",
              "      <td>204</td>\n",
              "    </tr>\n",
              "    <tr>\n",
              "      <th>2020-03-28</th>\n",
              "      <td>184</td>\n",
              "      <td>184</td>\n",
              "      <td>184</td>\n",
              "      <td>155</td>\n",
              "      <td>184</td>\n",
              "      <td>184</td>\n",
              "      <td>184</td>\n",
              "      <td>184</td>\n",
              "      <td>184</td>\n",
              "      <td>184</td>\n",
              "      <td>184</td>\n",
              "      <td>184</td>\n",
              "      <td>184</td>\n",
              "    </tr>\n",
              "    <tr>\n",
              "      <th>2016-05-01</th>\n",
              "      <td>136</td>\n",
              "      <td>136</td>\n",
              "      <td>136</td>\n",
              "      <td>117</td>\n",
              "      <td>136</td>\n",
              "      <td>135</td>\n",
              "      <td>136</td>\n",
              "      <td>136</td>\n",
              "      <td>136</td>\n",
              "      <td>136</td>\n",
              "      <td>136</td>\n",
              "      <td>136</td>\n",
              "      <td>136</td>\n",
              "    </tr>\n",
              "    <tr>\n",
              "      <th>2015-12-10</th>\n",
              "      <td>114</td>\n",
              "      <td>114</td>\n",
              "      <td>114</td>\n",
              "      <td>100</td>\n",
              "      <td>114</td>\n",
              "      <td>114</td>\n",
              "      <td>114</td>\n",
              "      <td>114</td>\n",
              "      <td>114</td>\n",
              "      <td>114</td>\n",
              "      <td>114</td>\n",
              "      <td>114</td>\n",
              "      <td>114</td>\n",
              "    </tr>\n",
              "  </tbody>\n",
              "</table>\n",
              "<p>1694 rows × 13 columns</p>\n",
              "</div>"
            ],
            "text/plain": [
              "             lat   lng  desc   zip  ...  dayOfWeek  year  reasonCategory  reason\n",
              "date                                ...                                         \n",
              "2018-03-02  2187  2187  2187  1986  ...       2187  2187            2187    2187\n",
              "2018-11-15  1662  1662  1662  1458  ...       1662  1662            1662    1662\n",
              "2020-06-03  1401  1401  1401  1283  ...       1401  1401            1401    1401\n",
              "2018-03-07   920   920   920   824  ...        920   920             920     920\n",
              "2018-03-03   917   917   917   836  ...        917   917             917     917\n",
              "...          ...   ...   ...   ...  ...        ...   ...             ...     ...\n",
              "2020-07-29   217   217   217   184  ...        217   217             217     217\n",
              "2020-03-29   204   204   204   187  ...        204   204             204     204\n",
              "2020-03-28   184   184   184   155  ...        184   184             184     184\n",
              "2016-05-01   136   136   136   117  ...        136   136             136     136\n",
              "2015-12-10   114   114   114   100  ...        114   114             114     114\n",
              "\n",
              "[1694 rows x 13 columns]"
            ]
          },
          "metadata": {
            "tags": []
          },
          "execution_count": 43
        }
      ]
    },
    {
      "cell_type": "markdown",
      "metadata": {
        "id": "RpsB-rVkcWQl"
      },
      "source": [
        "2018-03-02, 2018-11-15 and 2020-06-03\n",
        "\n",
        "On the above 3 dates we can see an unusual amount of calls made. So i went to google and checked whether any natural calamities has occured on these dates.\n",
        "\n",
        "And it turns out that, in pennsylvania on these dates there has been huge winter stroms. Thus the spike in number of calls"
      ]
    },
    {
      "cell_type": "markdown",
      "metadata": {
        "id": "BUHxbHrClrge"
      },
      "source": [
        "#### **Number of calls made on each hour of a day**"
      ]
    },
    {
      "cell_type": "code",
      "metadata": {
        "id": "XsfNFgl0e7f4",
        "colab": {
          "base_uri": "https://localhost:8080/"
        },
        "outputId": "5c48fc7b-46b9-4f4f-d973-dd3ec18a0451"
      },
      "source": [
        "data['hour'].value_counts().sort_values(ascending=False)"
      ],
      "execution_count": 46,
      "outputs": [
        {
          "output_type": "execute_result",
          "data": {
            "text/plain": [
              "17    44119\n",
              "16    42797\n",
              "15    42263\n",
              "14    40346\n",
              "12    40097\n",
              "13    39797\n",
              "11    38076\n",
              "18    37322\n",
              "10    36577\n",
              "9     35477\n",
              "8     33380\n",
              "19    32442\n",
              "20    28079\n",
              "7     26971\n",
              "21    24659\n",
              "22    20313\n",
              "6     17219\n",
              "23    16892\n",
              "0     13863\n",
              "1     11751\n",
              "5     11676\n",
              "2     10653\n",
              "3      9488\n",
              "4      9265\n",
              "Name: hour, dtype: int64"
            ]
          },
          "metadata": {
            "tags": []
          },
          "execution_count": 46
        }
      ]
    },
    {
      "cell_type": "code",
      "metadata": {
        "id": "l-2X80ZZgZyO"
      },
      "source": [
        "s = pd.DataFrame(data['hour'].value_counts().sort_values(ascending=False))"
      ],
      "execution_count": 47,
      "outputs": []
    },
    {
      "cell_type": "code",
      "metadata": {
        "id": "7xVsNVK0lkW3"
      },
      "source": [
        "s['first'] = s.index"
      ],
      "execution_count": 48,
      "outputs": []
    },
    {
      "cell_type": "code",
      "metadata": {
        "id": "R1pwH_07jwtG",
        "colab": {
          "base_uri": "https://localhost:8080/",
          "height": 520
        },
        "outputId": "f152080a-7130-4a9a-c34b-81ab7598fb65"
      },
      "source": [
        "plt.figure(figsize=(16,8))\n",
        "sns.barplot(x=s['first'],y=s['hour'],palette='icefire')"
      ],
      "execution_count": 56,
      "outputs": [
        {
          "output_type": "execute_result",
          "data": {
            "text/plain": [
              "<matplotlib.axes._subplots.AxesSubplot at 0x7fd6a3fb6b50>"
            ]
          },
          "metadata": {
            "tags": []
          },
          "execution_count": 56
        },
        {
          "output_type": "display_data",
          "data": {
            "image/png": "[encoded data removed]",
            "text/plain": [
              "<Figure size 1152x576 with 1 Axes>"
            ]
          },
          "metadata": {
            "tags": []
          }
        }
      ]
    }
  ]
}